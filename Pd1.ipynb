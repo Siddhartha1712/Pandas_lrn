{
 "cells": [
  {
   "cell_type": "code",
   "execution_count": 4,
   "id": "396e819e-0dbe-4bc1-ab10-86f7f2c925a0",
   "metadata": {},
   "outputs": [],
   "source": [
    "import pandas as pd"
   ]
  },
  {
   "cell_type": "markdown",
   "id": "e3bc0f37-faa8-48a6-9699-fbc44ed31dda",
   "metadata": {},
   "source": [
    "**Series**: List is converted into a single column table"
   ]
  },
  {
   "cell_type": "code",
   "execution_count": 6,
   "id": "2d38dc04-6ac5-4aef-ad40-d8266d88607b",
   "metadata": {},
   "outputs": [
    {
     "name": "stdout",
     "output_type": "stream",
     "text": [
      "[1, 2, 3, 4, 5, 6]\n",
      "0    1\n",
      "1    2\n",
      "2    3\n",
      "3    4\n",
      "4    5\n",
      "5    6\n",
      "dtype: int64\n"
     ]
    }
   ],
   "source": [
    "a = [1,2,3,4,5,6]\n",
    "\n",
    "df = pd.Series(a)\n",
    "print(a)\n",
    "print(df)"
   ]
  },
  {
   "cell_type": "markdown",
   "id": "c1f178c3-11ca-4f62-beb8-7a27a3b65130",
   "metadata": {},
   "source": [
    "Setting index in sereis"
   ]
  },
  {
   "cell_type": "code",
   "execution_count": 7,
   "id": "46fec233-ad7f-4a6b-9361-a832e163f90a",
   "metadata": {},
   "outputs": [
    {
     "name": "stdout",
     "output_type": "stream",
     "text": [
      "a    5\n",
      "b    6\n",
      "c    7\n",
      "d    8\n",
      "dtype: int64\n"
     ]
    }
   ],
   "source": [
    "a = [5,6,7,8]\n",
    "df = pd.Series(a,index=['a','b','c','d'])\n",
    "\n",
    "print(df)"
   ]
  },
  {
   "cell_type": "code",
   "execution_count": 8,
   "id": "3027648b-997c-40ff-9050-a13ab0e0c98c",
   "metadata": {},
   "outputs": [
    {
     "name": "stdout",
     "output_type": "stream",
     "text": [
      "7\n"
     ]
    }
   ],
   "source": [
    "print(df['c'])"
   ]
  },
  {
   "cell_type": "markdown",
   "id": "1a1faf1c-2f79-4681-bc26-64af78b53475",
   "metadata": {},
   "source": [
    "Key Value Pair in Series"
   ]
  },
  {
   "cell_type": "code",
   "execution_count": 10,
   "id": "94376d30-784c-47ab-aead-3563d4321d8d",
   "metadata": {},
   "outputs": [
    {
     "name": "stdout",
     "output_type": "stream",
     "text": [
      "sun    30\n",
      "Mon    50\n",
      "Tue    70\n",
      "dtype: int64\n"
     ]
    }
   ],
   "source": [
    "dict = {'sun':30,'Mon':50,\"Tue\":70}\n",
    "df = pd.Series(dict)\n",
    "print(df)"
   ]
  }
 ],
 "metadata": {
  "kernelspec": {
   "display_name": "Python 3 (ipykernel)",
   "language": "python",
   "name": "python3"
  },
  "language_info": {
   "codemirror_mode": {
    "name": "ipython",
    "version": 3
   },
   "file_extension": ".py",
   "mimetype": "text/x-python",
   "name": "python",
   "nbconvert_exporter": "python",
   "pygments_lexer": "ipython3",
   "version": "3.12.7"
  }
 },
 "nbformat": 4,
 "nbformat_minor": 5
}

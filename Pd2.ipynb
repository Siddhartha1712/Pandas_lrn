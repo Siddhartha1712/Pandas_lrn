{
 "cells": [
  {
   "cell_type": "markdown",
   "id": "cf0797ec-8e7d-417a-9408-bc4c1d035136",
   "metadata": {},
   "source": [
    "**Pandas DataFrame***"
   ]
  },
  {
   "cell_type": "code",
   "execution_count": 1,
   "id": "38cd50e5-474c-4cde-8b42-1eb27a6ee474",
   "metadata": {},
   "outputs": [],
   "source": [
    "import pandas as pd"
   ]
  },
  {
   "cell_type": "code",
   "execution_count": 6,
   "id": "e05703d8-cefa-4f66-b76d-80205b2daa6e",
   "metadata": {},
   "outputs": [
    {
     "name": "stdout",
     "output_type": "stream",
     "text": [
      "   sun  mon  tue  wed\n",
      "0  100  250  150  550\n",
      "1  200  350  200  600\n",
      "2  300  450  250  650\n",
      "3  400  550  300  700\n"
     ]
    }
   ],
   "source": [
    "dict = {\n",
    "    \"sun\":[100,200,300,400],\n",
    "    \"mon\":[250,350,450,550],\n",
    "    \"tue\":[150,200,250,300],\n",
    "    \"wed\":[550,600,650,700]\n",
    "}\n",
    "df = pd.DataFrame(dict)\n",
    "print(df)"
   ]
  },
  {
   "cell_type": "code",
   "execution_count": 7,
   "id": "bffe5d0c-f3af-40a3-ad5a-9e484bf15181",
   "metadata": {},
   "outputs": [
    {
     "name": "stdout",
     "output_type": "stream",
     "text": [
      "   sun  mon  tue  wed\n",
      "a  100  250  150  550\n",
      "b  200  350  200  600\n",
      "c  300  450  250  650\n",
      "d  400  550  300  700\n"
     ]
    }
   ],
   "source": [
    "dict = {\n",
    "    \"sun\":[100,200,300,400],\n",
    "    \"mon\":[250,350,450,550],\n",
    "    \"tue\":[150,200,250,300],\n",
    "    \"wed\":[550,600,650,700]\n",
    "}\n",
    "df = pd.DataFrame(dict,index=['a','b','c','d'])\n",
    "print(df)"
   ]
  },
  {
   "cell_type": "markdown",
   "id": "126175fa-3907-42d9-9f53-e4bb4ba01bb5",
   "metadata": {},
   "source": [
    ".\n",
    "*Locate Rows* :\n",
    "1. loc[]  : for locating by index\n",
    "2. iloc[] : locate by the position\n",
    "."
   ]
  },
  {
   "cell_type": "code",
   "execution_count": 10,
   "id": "4d2341eb-4820-4b13-ba19-709456aecdb5",
   "metadata": {},
   "outputs": [
    {
     "name": "stdout",
     "output_type": "stream",
     "text": [
      "sun    100\n",
      "mon    250\n",
      "tue    150\n",
      "wed    550\n",
      "Name: a, dtype: int64\n"
     ]
    }
   ],
   "source": [
    "var = df.loc['a']\n",
    "print(var)"
   ]
  },
  {
   "cell_type": "code",
   "execution_count": 11,
   "id": "336aae41-19db-4a12-a611-4106f7c054f1",
   "metadata": {},
   "outputs": [
    {
     "name": "stdout",
     "output_type": "stream",
     "text": [
      "sun    100\n",
      "mon    250\n",
      "tue    150\n",
      "wed    550\n",
      "Name: a, dtype: int64\n"
     ]
    }
   ],
   "source": [
    "var = df.iloc[0]\n",
    "print(var)"
   ]
  },
  {
   "cell_type": "code",
   "execution_count": 13,
   "id": "6a687db8-410e-4da6-8877-c390c3afa08d",
   "metadata": {},
   "outputs": [
    {
     "name": "stdout",
     "output_type": "stream",
     "text": [
      "   sun  mon  tue  wed\n",
      "a  100  250  150  550\n",
      "b  200  350  200  600\n"
     ]
    }
   ],
   "source": [
    "var = df.loc[['a','b']]\n",
    "print(var)"
   ]
  },
  {
   "cell_type": "code",
   "execution_count": 14,
   "id": "13a96b12-d6dc-4820-b45a-cb5cacd453e2",
   "metadata": {},
   "outputs": [
    {
     "name": "stdout",
     "output_type": "stream",
     "text": [
      "   sun  mon  tue  wed\n",
      "c  300  450  250  650\n",
      "d  400  550  300  700\n"
     ]
    }
   ],
   "source": [
    "var = df.iloc[[2,3]]\n",
    "print(var)"
   ]
  }
 ],
 "metadata": {
  "kernelspec": {
   "display_name": "Python 3 (ipykernel)",
   "language": "python",
   "name": "python3"
  },
  "language_info": {
   "codemirror_mode": {
    "name": "ipython",
    "version": 3
   },
   "file_extension": ".py",
   "mimetype": "text/x-python",
   "name": "python",
   "nbconvert_exporter": "python",
   "pygments_lexer": "ipython3",
   "version": "3.12.7"
  }
 },
 "nbformat": 4,
 "nbformat_minor": 5
}
